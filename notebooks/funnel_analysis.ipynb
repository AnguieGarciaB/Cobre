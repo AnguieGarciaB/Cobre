{
 "cells": [
  {
   "cell_type": "markdown",
   "metadata": {},
   "source": [
    "calcula tasas de conversión MQL → SQL → Won."
   ]
  }
 ],
 "metadata": {
  "language_info": {
   "name": "python"
  }
 },
 "nbformat": 4,
 "nbformat_minor": 2
}
