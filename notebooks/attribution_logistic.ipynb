{
 "cells": [
  {
   "cell_type": "markdown",
   "metadata": {},
   "source": [
    "aplica modelo de regresión o Markov para atribución."
   ]
  },
  {
   "cell_type": "code",
   "execution_count": 1,
   "metadata": {},
   "outputs": [],
   "source": [
    "import pandas as pd"
   ]
  },
  {
   "cell_type": "code",
   "execution_count": 4,
   "metadata": {},
   "outputs": [
    {
     "name": "stdout",
     "output_type": "stream",
     "text": [
      "['olist_closed_deals_dataset.csv', 'olist_marketing_qualified_leads_dataset.csv', 'olist_orders_dataset.csv', 'olist_order_items_dataset.csv', 'olist_order_payments_dataset.csv', 'olist_sellers_dataset.csv']\n"
     ]
    }
   ],
   "source": [
    "import os\n",
    "\n",
    "ruta = r'C:\\Users\\BETAN\\Desktop\\Mamasita RIKA\\Cobre\\data'  # Cambia esto por la ruta de tu carpeta\n",
    "\n",
    "archivos = [f for f in os.listdir(ruta) if os.path.isfile(os.path.join(ruta, f))]\n",
    "\n",
    "print(archivos)\n"
   ]
  }
 ],
 "metadata": {
  "kernelspec": {
   "display_name": "venv",
   "language": "python",
   "name": "python3"
  },
  "language_info": {
   "codemirror_mode": {
    "name": "ipython",
    "version": 3
   },
   "file_extension": ".py",
   "mimetype": "text/x-python",
   "name": "python",
   "nbconvert_exporter": "python",
   "pygments_lexer": "ipython3",
   "version": "3.10.2"
  }
 },
 "nbformat": 4,
 "nbformat_minor": 2
}
